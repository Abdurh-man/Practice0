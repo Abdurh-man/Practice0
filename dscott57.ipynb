{
 "cells": [
  {
   "cell_type": "code",
   "execution_count": 1,
   "metadata": {},
   "outputs": [
    {
     "name": "stdout",
     "output_type": "stream",
     "text": [
      "IPython version:      %6.6s 8.3.0\n"
     ]
    }
   ],
   "source": [
    "import IPython\n",
    "import json\n",
    "# Numpy is a library for working with Arrays\n",
    "import numpy as np\n",
    "# SciPy implements many different numerical algorithms\n",
    "import scipy as sp\n",
    "# Pandas is good with data tables\n",
    "import pandas as pd\n",
    "# Module for plotting\n",
    "import matplotlib\n",
    "#BeautifulSoup parses HTML documents (once you get them via requests)\n",
    "import bs4\n",
    "# Nltk helps with some natural language tasks, like stemming\n",
    "import nltk\n",
    "# Bson is a binary format of json to be stored in databases\n",
    "import bson\n",
    "# Mongo is one of common nosql databases \n",
    "# it stores/searches json documents natively\n",
    "import pymongo\n",
    "print (\"IPython version:      %6.6s\", IPython.__version__)"
   ]
  },
  {
   "cell_type": "code",
   "execution_count": 2,
   "metadata": {},
   "outputs": [
    {
     "name": "stdout",
     "output_type": "stream",
     "text": [
      "Make a 2 row x 3 column array of random numbers\n",
      "[[0.55200737 0.19839592 0.49630634]\n",
      " [0.92632615 0.69567994 0.28182537]]\n",
      "Add 5 to every element\n",
      "[[5.55200737 5.19839592 5.49630634]\n",
      " [5.92632615 5.69567994 5.28182537]]\n",
      "Get the first row\n",
      "[5.55200737 5.19839592 5.49630634]\n"
     ]
    }
   ],
   "source": [
    "#Here is what numpy can do\\n\",\n",
    "print (\"Make a 2 row x 3 column array of random numbers\")\n",
    "x = np.random.random((2, 3))\n",
    "print (x)\n",
    "\n",
    "#array operation (as in R)\n",
    "print (\"Add 5 to every element\")\n",
    "x = x + 5\n",
    "print (x)\n",
    "\n",
    "# get a slice (first row) (as in R)\n",
    "print (\"Get the first row\")\n",
    "print (x[0, :])"
   ]
  },
  {
   "cell_type": "code",
   "execution_count": 3,
   "metadata": {},
   "outputs": [
    {
     "data": {
      "text/plain": [
       "<function ndarray.any>"
      ]
     },
     "execution_count": 3,
     "metadata": {},
     "output_type": "execute_result"
    }
   ],
   "source": [
    "# IPython is quite modern: just press <TAB> at the end of the unfinished statement to see the documentation\n",
    "#       on possible completions.\n",
    "#       In the code cell below, type x.<TAB>, to find built-in operations for x\n",
    "x.any"
   ]
  },
  {
   "cell_type": "code",
   "execution_count": 4,
   "metadata": {},
   "outputs": [
    {
     "data": {
      "image/png": "[encoded data removed]",
      "text/plain": [
       "<Figure size 432x288 with 1 Axes>"
      ]
     },
     "metadata": {
      "needs_background": "light"
     },
     "output_type": "display_data"
    }
   ],
   "source": [
    "%matplotlib inline \n",
    "import matplotlib.pyplot as plt\n",
    "heads = np.random.binomial(500, .5, size=500)\n",
    "histogram = plt.hist(heads, bins=10)"
   ]
  },
  {
   "cell_type": "markdown",
   "metadata": {
    "collapsed": true
   },
   "source": [
    "# Task 1\n",
    "## write a program to produce Fibonacci numbers up to 1000000"
   ]
  },
  {
   "cell_type": "code",
   "execution_count": 5,
   "metadata": {},
   "outputs": [
    {
     "name": "stdout",
     "output_type": "stream",
     "text": [
      "CPU times: user 5 µs, sys: 3 µs, total: 8 µs\n",
      "Wall time: 16.2 µs\n",
      "[0, 1, 1, 2, 3, 5, 8, 13, 21, 34, 55, 89, 144, 233, 377, 610, 987, 1597, 2584, 4181, 6765, 10946, 17711, 28657, 46368, 75025, 121393, 196418, 317811, 514229, 832040, 1346269, 2178309, 3524578, 5702887, 9227465, 14930352, 24157817, 39088169, 63245986]\n"
     ]
    }
   ],
   "source": [
    "%time\n",
    "#Code adapted from https://www.geeksforgeeks.org/find-nth-fibonacci-number-using-golden-ratio/\n",
    "\n",
    "#Uses the golden ratio method (faster than recursive). \n",
    "#As long as n < 34, it should be accurate due to floating point calculations\n",
    "import math\n",
    "PHI =  math.sqrt(5)\n",
    "def fibonacci(nr):\n",
    "    ratio = (1 + PHI) / 2\n",
    "    return int(ratio ** nr / PHI + 0.5)\n",
    "\n",
    "FIBONACCI = [fibonacci(i) for i in range(40)]\n",
    "\n",
    "print(FIBONACCI)\n",
    "    "
   ]
  },
  {
   "cell_type": "code",
   "execution_count": 6,
   "metadata": {
    "scrolled": true
   },
   "outputs": [
    {
     "name": "stdout",
     "output_type": "stream",
     "text": [
      "[0, 1, 1, 2, 3, 5, 8, 13, 21, 34, 55, 89, 144, 233, 377, 610, 987, 1597, 2584, 4181, 6765, 10946, 17711, 28657, 46368, 75025, 121393, 196418, 317811, 514229, 832040, 1346269, 2178309, 3524578, 5702887, 9227465, 14930352, 24157817, 39088169, 63245986]\n"
     ]
    }
   ],
   "source": [
    "#this ends up taking way too much time to run\n",
    "#adapted from https://www.educative.io/answers/how-to-implement-the-fibonacci-sequence-in-python\n",
    "def fib(term):\n",
    "   if term <= 1:\n",
    "       return (term)\n",
    "   else:\n",
    "       return (fib(term-1) + fib(term-2))\n",
    " \n",
    "fib2 = [fib(i) for i in range(40)]\n",
    "print(fib2)\n"
   ]
  },
  {
   "cell_type": "markdown",
   "metadata": {},
   "source": [
    "# Task 2\n",
    "## write a program to simulate 1000 tosses of a fair coin (use np.random.binomial)\n",
    "## Calculate the mean and standard deviation of that sample"
   ]
  },
  {
   "cell_type": "code",
   "execution_count": 7,
   "metadata": {},
   "outputs": [
    {
     "name": "stdout",
     "output_type": "stream",
     "text": [
      "The mean of 1000 simulated coin tosses is: 499.843\n",
      "The standard deviaiton is 15.910510708333659\n"
     ]
    }
   ],
   "source": [
    "#code adapted from https://numpy.org/doc/stable/reference/random/generated/numpy.random.binomial.html &\n",
    "#  https://cmdlinetips.com/2018/12/simulating-coin-toss-experiment-with-binomial-random-numbers-using-numpy/\n",
    "# Fixing random state for reproducibility\n",
    "np.random.seed(2022)\n",
    "\n",
    "n, p = 1000, .5  # number of trials, probability of each trial\n",
    "s = np.random.binomial(n, p, 1000)\n",
    "\n",
    "print(f'The mean of {len(s)} simulated coin tosses is: {s.mean()}\\nThe standard deviaiton is {s.std()}')\n"
   ]
  },
  {
   "cell_type": "markdown",
   "metadata": {},
   "source": [
    "# Task 3\n",
    "## Produce a scatterplot of y = 0.5*x+e where x has gaussian (0, 5) and e has gaussian (0, 1) distributions \n",
    "### use numpy.random.normal to generate gaussian distribution"
   ]
  },
  {
   "cell_type": "code",
   "execution_count": 14,
   "metadata": {},
   "outputs": [
    {
     "data": {
      "image/png": "[encoded data removed]",
      "text/plain": [
       "<Figure size 432x288 with 1 Axes>"
      ]
     },
     "metadata": {
      "needs_background": "light"
     },
     "output_type": "display_data"
    }
   ],
   "source": [
    "#code adapted from https://numpy.org/doc/stable/reference/random/generated/numpy.random.normal.html\n",
    "# & https://matplotlib.org/stable/gallery/shapes_and_collections/scatter.html\n",
    "\n",
    "# Fixing random state for reproducibility\n",
    "np.random.seed(2022)\n",
    "\n",
    "x = np.random.normal(0,5,1000)\n",
    "e = np.random.normal(0,1,1000)\n",
    "\n",
    "fig = plt.scatter(x,0.5*x+e)\n",
    "plt.xlabel('x')\n",
    "plt.ylabel('y')\n",
    "plt.title('y=0.5x+e')\n",
    "plt.show()"
   ]
  }
 ],
 "metadata": {
  "kernelspec": {
   "display_name": "Python 3 (ipykernel)",
   "language": "python",
   "name": "python3"
  },
  "language_info": {
   "codemirror_mode": {
    "name": "ipython",
    "version": 3
   },
   "file_extension": ".py",
   "mimetype": "text/x-python",
   "name": "python",
   "nbconvert_exporter": "python",
   "pygments_lexer": "ipython3",
   "version": "3.8.10"
  }
 },
 "nbformat": 4,
 "nbformat_minor": 1
}
